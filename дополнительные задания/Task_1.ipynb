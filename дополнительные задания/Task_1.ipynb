{
  "nbformat": 4,
  "nbformat_minor": 0,
  "metadata": {
    "colab": {
      "provenance": [],
      "include_colab_link": true
    },
    "kernelspec": {
      "name": "python3",
      "display_name": "Python 3"
    },
    "language_info": {
      "name": "python"
    }
  },
  "cells": [
    {
      "cell_type": "markdown",
      "metadata": {
        "id": "view-in-github",
        "colab_type": "text"
      },
      "source": [
        "<a href=\"https://colab.research.google.com/github/NataliaDvornikova/University/blob/main/%D0%B4%D0%BE%D0%BF%D0%BE%D0%BB%D0%BD%D0%B8%D1%82%D0%B5%D0%BB%D1%8C%D0%BD%D1%8B%D0%B5%20%D0%B7%D0%B0%D0%B4%D0%B0%D0%BD%D0%B8%D1%8F/Task_1.ipynb\" target=\"_parent\"><img src=\"https://colab.research.google.com/assets/colab-badge.svg\" alt=\"Open In Colab\"/></a>"
      ]
    },
    {
      "cell_type": "markdown",
      "source": [
        "**Напишите программу-игру:**\n",
        "\n",
        "* Компьютер загадывает случайное число (по умолчанию от 0 до 100), пользователь пытаеться его угадать.\n",
        "\n",
        "* Пользователь вводит число до тех пор, пока не угадает или не введет слово \"Выход\"\n",
        "\n",
        "* Компьютер сравнивает число с введенным и сообщает пользователю больше оно или меньше загаданного.\n",
        "\n",
        "* Посчитайте количество попыток и выводите его после того, как пользователь угадал число."
      ],
      "metadata": {
        "id": "t8GY0cn_CYNK"
      }
    },
    {
      "cell_type": "code",
      "source": [
        "from math import e\n",
        "import random\n",
        "a = random.randint(0,100)\n",
        "f = True\n",
        "i = 0\n",
        "while f == True:\n",
        "  b = input(\"Угадывай:  \")\n",
        "  if b == \"Выход\":\n",
        "    break\n",
        "  if b.isdigit():\n",
        "    b = int(b)\n",
        "  i = i + 1\n",
        "  if b < a:\n",
        "    print(\"Меньше\")\n",
        "  elif b > a:\n",
        "    print(\"Больше\")\n",
        "  elif b == a:\n",
        "    print(f'Угадал! Аж с {i} попытки!')\n",
        "    f = False\n",
        "    break\n",
        "\n"
      ],
      "metadata": {
        "id": "vHvUtu-Y-Ywv",
        "outputId": "a2e6092d-93d2-43c2-d193-d3692a6cbd7e",
        "colab": {
          "base_uri": "https://localhost:8080/"
        }
      },
      "execution_count": 36,
      "outputs": [
        {
          "output_type": "stream",
          "name": "stdout",
          "text": [
            "57\n",
            "Угадывай:  59\n",
            "Больше\n",
            "Угадывай:  50\n",
            "Меньше\n",
            "Угадывай:  57\n",
            "Угадал! Аж с 3 попытки!\n"
          ]
        }
      ]
    }
  ]
}
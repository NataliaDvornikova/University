{
  "cells": [
    {
      "cell_type": "markdown",
      "metadata": {
        "id": "view-in-github",
        "colab_type": "text"
      },
      "source": [
        "<a href=\"https://colab.research.google.com/github/NataliaDvornikova/University/blob/main/Extra_Tasks/Ex_Task_2.ipynb\" target=\"_parent\"><img src=\"https://colab.research.google.com/assets/colab-badge.svg\" alt=\"Open In Colab\"/></a>"
      ]
    },
    {
      "cell_type": "code",
      "source": [
        "PhoneBook = {}\n",
        "def contact_name(name):\n",
        "    name = name.split()\n",
        "    result = ''\n",
        "    for i in range(len(name)):\n",
        "        result += name[i][0].upper() + name[i][1:].lower() + ' '\n",
        "    return result\n",
        "def phone_number(number):\n",
        "    return \"+7\" + str(number)[-10:]\n",
        "def add_contact(name, number):\n",
        "    PhoneBook[contact_name(name)] = phone_number(number)\n",
        "def delete_contact(name):\n",
        "    del PhoneBook[contact_name(name)]\n",
        "def check_contacts():\n",
        "    tuple(map(lambda x: print(*x), PhoneBook.items()))\n",
        "def change_contact(name):\n",
        "    PhoneBook[contact_name(name)] = phone_number(input(\"Введите новый номер: \"))\n",
        "\n",
        "while True:\n",
        "    print(\"__________________\")\n",
        "    print(\"Телефонная книга\")\n",
        "    print(\"__________________\")\n",
        "    print(\"Выберите функцию:\")\n",
        "    print(\"1. Добавить контакт\", \"2. Удалить контакт\", \"3. Список контактов\", \"4. Изменить номер\", \"5. Выход\", sep='\\n')\n",
        "    print(\"_________________\")\n",
        "    function = int(input(\"Выберите пункт: \"))\n",
        "    if function == 1:\n",
        "        add_contact(input(\"Введите имя контакта: \"), input(\"Введите номер: \"))\n",
        "        print(\"Контакт успешно добавлен!\")\n",
        "    elif function == 2:\n",
        "        delete_contact(input(\"Введите имя контакта: \"))\n",
        "        print(\"Контакт успешно удален!\")\n",
        "    elif function == 3:\n",
        "        print(\"Список контактов: \")\n",
        "        check_contacts()\n",
        "    elif function == 4:\n",
        "        change_contact(input(\"Введите имя контакта: \"))\n",
        "        print(\"Контакт успешно изменен!\")\n",
        "    else:\n",
        "        print('Выполняется выход...')\n",
        "        exit()"
      ],
      "metadata": {
        "id": "v636xPdrw2vB",
        "outputId": "45861c67-408b-499d-a36d-4f4e34d94b96",
        "colab": {
          "base_uri": "https://localhost:8080/"
        }
      },
      "execution_count": null,
      "outputs": [
        {
          "output_type": "stream",
          "name": "stdout",
          "text": [
            "__________________\n",
            "Телефонная книга\n",
            "__________________\n",
            "Выберите функцию:\n",
            "1. Добавить контакт\n",
            "2. Удалить контакт\n",
            "3. Список контактов\n",
            "4. Изменить номер\n",
            "5. Выход\n",
            "_________________\n",
            "Выберите пункт: 1\n",
            "Введите имя контакта: наташа\n",
            "Введите номер: 89526919710\n",
            "Контакт успешно добавлен!\n",
            "__________________\n",
            "Телефонная книга\n",
            "__________________\n",
            "Выберите функцию:\n",
            "1. Добавить контакт\n",
            "2. Удалить контакт\n",
            "3. Список контактов\n",
            "4. Изменить номер\n",
            "5. Выход\n",
            "_________________\n",
            "Выберите пункт: 3\n",
            "Список контактов: \n",
            "Наташа  +79526919710\n",
            "__________________\n",
            "Телефонная книга\n",
            "__________________\n",
            "Выберите функцию:\n",
            "1. Добавить контакт\n",
            "2. Удалить контакт\n",
            "3. Список контактов\n",
            "4. Изменить номер\n",
            "5. Выход\n",
            "_________________\n",
            "Выберите пункт: 2\n",
            "Введите имя контакта: НАТАША\n",
            "Контакт успешно удален!\n",
            "__________________\n",
            "Телефонная книга\n",
            "__________________\n",
            "Выберите функцию:\n",
            "1. Добавить контакт\n",
            "2. Удалить контакт\n",
            "3. Список контактов\n",
            "4. Изменить номер\n",
            "5. Выход\n",
            "_________________\n",
            "Выберите пункт: 5\n",
            "Выполняется выход...\n",
            "__________________\n",
            "Телефонная книга\n",
            "__________________\n",
            "Выберите функцию:\n",
            "1. Добавить контакт\n",
            "2. Удалить контакт\n",
            "3. Список контактов\n",
            "4. Изменить номер\n",
            "5. Выход\n",
            "_________________\n"
          ]
        }
      ]
    }
  ],
  "metadata": {
    "colab": {
      "name": "Добро пожаловать в Colaboratory!",
      "toc_visible": true,
      "provenance": [],
      "include_colab_link": true
    },
    "kernelspec": {
      "display_name": "Python 3",
      "name": "python3"
    }
  },
  "nbformat": 4,
  "nbformat_minor": 0
}